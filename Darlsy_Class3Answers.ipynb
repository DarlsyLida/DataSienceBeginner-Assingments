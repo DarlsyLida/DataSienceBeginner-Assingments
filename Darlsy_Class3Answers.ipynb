{
 "cells": [
  {
   "cell_type": "markdown",
   "id": "noticed-worker",
   "metadata": {},
   "source": [
    "### Assignment 1\n",
    "Create a function that accepts your Surname and other names and output your full name"
   ]
  },
  {
   "cell_type": "code",
   "execution_count": 1,
   "id": "mounted-forwarding",
   "metadata": {},
   "outputs": [],
   "source": [
    "def myNames(surname ,*names):\n",
    "    print(\"Full name is: \", end=\" \")\n",
    "    for name in names:\n",
    "        print(name, end=\" \")\n",
    "    print(surname ,end=\" \" )\n",
    "    "
   ]
  },
  {
   "cell_type": "code",
   "execution_count": 5,
   "id": "strong-mason",
   "metadata": {},
   "outputs": [
    {
     "name": "stdout",
     "output_type": "stream",
     "text": [
      "Full name is:  Darlsy Darl Lida Otieno "
     ]
    }
   ],
   "source": [
    "myNames('Otieno', 'Darlsy',  'Darl','Lida')"
   ]
  },
  {
   "cell_type": "markdown",
   "id": "smart-speaker",
   "metadata": {},
   "source": [
    "### Assignment 2\n",
    "Create a function named Family and pass the dictionary below:\n",
    "\n",
    "- Family_Age = {\"Father\":, 50, \"Mother\": 45, \"Daughter\": 25, \"Son\":20}"
   ]
  },
  {
   "cell_type": "code",
   "execution_count": 3,
   "id": "matched-connecticut",
   "metadata": {},
   "outputs": [],
   "source": [
    "def Family(members):\n",
    "    print(\"Family members' age:\\n\")\n",
    "    for member, age in members.items():\n",
    "        print(\"The age of {} is {}.\".format(member, age))"
   ]
  },
  {
   "cell_type": "code",
   "execution_count": 4,
   "id": "derived-crime",
   "metadata": {},
   "outputs": [
    {
     "name": "stdout",
     "output_type": "stream",
     "text": [
      "Family members' age:\n",
      "\n",
      "The age of Father is 50.\n",
      "The age of Mother is 45.\n",
      "The age of Daughter is 25.\n",
      "The age of Son is 20.\n"
     ]
    }
   ],
   "source": [
    "Family_Age = {\"Father\": 50, \"Mother\": 45, \"Daughter\": 25, \"Son\":20}\n",
    "Family(Family_Age)"
   ]
  },
  {
   "cell_type": "code",
   "execution_count": null,
   "id": "recent-banana",
   "metadata": {},
   "outputs": [],
   "source": []
  },
  {
   "cell_type": "code",
   "execution_count": null,
   "id": "modified-horizontal",
   "metadata": {},
   "outputs": [],
   "source": []
  }
 ],
 "metadata": {
  "kernelspec": {
   "display_name": "Python 3",
   "language": "python",
   "name": "python3"
  },
  "language_info": {
   "codemirror_mode": {
    "name": "ipython",
    "version": 3
   },
   "file_extension": ".py",
   "mimetype": "text/x-python",
   "name": "python",
   "nbconvert_exporter": "python",
   "pygments_lexer": "ipython3",
   "version": "3.7.6"
  }
 },
 "nbformat": 4,
 "nbformat_minor": 5
}
